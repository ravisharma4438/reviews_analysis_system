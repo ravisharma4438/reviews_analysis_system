{
 "cells": [
  {
   "cell_type": "code",
   "execution_count": null,
   "id": "a347ccd2-879e-45fa-9ac2-da1f30c9238c",
   "metadata": {},
   "outputs": [],
   "source": [
    "#run this code if you are setting up your environment here for the first time\n",
    "pip install sagemaker\n",
    "pip install transformers"
   ]
  },
  {
   "cell_type": "code",
   "execution_count": null,
   "id": "77adf258-0424-45d5-9790-794959b8649f",
   "metadata": {},
   "outputs": [],
   "source": [
    "import sagemaker\n",
    "import boto3\n",
    "sess = sagemaker.Session()\n",
    "\n",
    "sagemaker_session_bucket=None\n",
    "if sagemaker_session_bucket is None and sess is not None:\n",
    "    # set to default bucket if a bucket name is not given\n",
    "    sagemaker_session_bucket = sess.default_bucket()\n",
    "\n",
    "try:\n",
    "    role = sagemaker.get_execution_role()\n",
    "except ValueError:\n",
    "    iam = boto3.client('iam')\n",
    "    role = iam.get_role(RoleName='sagemaker_execution_role')['Role']['Arn']\n",
    "\n",
    "sess = sagemaker.Session(default_bucket=sagemaker_session_bucket)\n",
    "\n",
    "print(f\"sagemaker role arn: {role}\")\n",
    "print(f\"sagemaker session region: {sess.boto_region_name}\")\n",
    "\n"
   ]
  },
  {
   "cell_type": "code",
   "execution_count": null,
   "id": "94598487-b00f-474b-9046-29563e15b8b2",
   "metadata": {},
   "outputs": [],
   "source": [
    "from sagemaker.huggingface import get_huggingface_llm_image_uri\n",
    "\n",
    "# retrieve the llm image uri\n",
    "llm_image = get_huggingface_llm_image_uri(\n",
    "  \"huggingface\",\n",
    "  version=\"2.3.1\"\n",
    ")\n",
    "\n",
    "# print ecr image uri\n",
    "print(f\"llm image uri: {llm_image}\")\n",
    "\n"
   ]
  },
  {
   "cell_type": "code",
   "execution_count": null,
   "id": "9fa996c6-7013-4e95-b185-f557ae672a0f",
   "metadata": {},
   "outputs": [],
   "source": [
    "import json\n",
    "from sagemaker.huggingface import HuggingFaceModel\n",
    "\n",
    "# sagemaker config\n",
    "instance_type = \"ml.g6.48xlarge\"\n",
    "number_of_gpu = 8\n",
    "health_check_timeout = 900\n",
    "\n",
    "# Define Model and Endpoint configuration parameter\n",
    "config = {\n",
    "  'HF_MODEL_ID': \"meta-llama/Llama-3.3-70B-Instruct\", \n",
    "  'SM_NUM_GPUS': json.dumps(number_of_gpu), # Number of GPU used per replica\n",
    "  'HUGGING_FACE_HUB_TOKEN': \"INSERT_YOUR_TOKEN_HERE\"\n",
    "}\n",
    "\n",
    "# create HuggingFaceModel with the image uri\n",
    "llm_model = HuggingFaceModel(\n",
    "  role=role,\n",
    "  image_uri=llm_image,\n",
    "  env=config\n",
    ")"
   ]
  },
  {
   "cell_type": "code",
   "execution_count": null,
   "id": "7f0698c0-405a-41ef-bc4a-98d3dad74b39",
   "metadata": {},
   "outputs": [],
   "source": [
    "# Deploy model to an endpoint\n",
    "llm = llm_model.deploy(\n",
    "  initial_instance_count=1,\n",
    "  instance_type=instance_type,\n",
    "  container_startup_health_check_timeout=health_check_timeout, # up to 15 minutes to be able to load the model, otherwise it times out\n",
    ")"
   ]
  },
  {
   "cell_type": "code",
   "execution_count": null,
   "id": "5adf33d1-5c55-4da0-b9fb-e3a72d9d05aa",
   "metadata": {},
   "outputs": [],
   "source": [
    "from transformers import AutoTokenizer\n",
    "model_id = 'meta-llama/Llama-3.3-70B-Instruct'\n",
    "tokenizer = AutoTokenizer.from_pretrained(model_id, token = 'INSERT_YOUR_TOKEN_HERE')\n"
   ]
  },
  {
   "cell_type": "code",
   "execution_count": null,
   "id": "d669b1f7-fda5-4cb1-ba90-21a77a3fb8fc",
   "metadata": {},
   "outputs": [],
   "source": [
    "import pandas as pd\n",
    "reviews_df = pd.read_csv('reviews_list.csv')\n"
   ]
  },
  {
   "cell_type": "code",
   "execution_count": null,
   "id": "48952ca9-35d4-4aa1-9dd0-843eff930691",
   "metadata": {},
   "outputs": [],
   "source": [
    "# Function to clean text by removing non-ASCII characters\n",
    "def clean_text(text):\n",
    "    return ''.join([char if ord(char) < 128 else ' ' for char in text])\n",
    "\n",
    "# Apply the cleaning function to the 'Comment' column \n",
    "reviews_df['Comment'] = reviews_df['Comment'].astype(str).apply(clean_text)\n"
   ]
  },
  {
   "cell_type": "code",
   "execution_count": null,
   "id": "6a0d4b1b-6178-453b-ab5d-bc7fa9c2ae24",
   "metadata": {},
   "outputs": [],
   "source": [
    "import numpy as np\n",
    "# Remove rows with empty, NaN, or whitespace-only comments\n",
    "reviews_df['Comment'] = reviews_df['Comment'].replace('nan', np.nan)\n",
    "reviews_df = reviews_df.dropna(subset=['Comment'])\n",
    "reviews_df = reviews_df[reviews_df['Comment'].str.strip() != '']\n",
    "reviews_df"
   ]
  },
  {
   "cell_type": "code",
   "execution_count": null,
   "id": "eb730f08-ff5c-4184-83ba-f2ed178ea1bc",
   "metadata": {},
   "outputs": [],
   "source": [
    "# Filter data for detractor scores (0-6) for each month\n",
    "detractors=reviews_df[(reviews_df['Score'] <= 6)]"
   ]
  },
  {
   "cell_type": "code",
   "execution_count": null,
   "id": "6e1a4341-93ab-4c68-8488-4fc7e5f43351",
   "metadata": {},
   "outputs": [],
   "source": [
    "detractors = detractors.reset_index(drop=True)\n",
    "detractors['llama_system_label'] = ''"
   ]
  },
  {
   "cell_type": "code",
   "execution_count": null,
   "id": "8fea1229-ab42-45dd-a26d-addea1c9f12b",
   "metadata": {},
   "outputs": [],
   "source": [
    "output_list = []\n",
    "for i in range(len(detractors)):\n",
    "    if i%10 == 0:\n",
    "        print(i)\n",
    "\n",
    "    review = detractors.loc[i,'Comment']\n",
    "\n",
    "    chat = [\n",
    "    {\n",
    "    \"role\": \"system\",\n",
    "    \"content\": \"\"\"You are a helpful AI model that categorizes customer reviews based on predefined labels related to a retail shoe company. \n",
    "    The company sells shoes through both e-commerce and physical stores, employs remote customer service agents and in-store retail workers, and provides an AI chatbot on its website.\n",
    "    \n",
    "    Your job is to analyze a given review and output the appropriate label(s) that best describe the customer's issue. Follow these guidelines:\n",
    "    - Only output the label(s) as specified, comma-separated, and in double quotes.\n",
    "    - If multiple labels apply, separate them with a comma.\n",
    "    - If no label applies, output \"other\".\n",
    "    \n",
    "    Possible labels:\n",
    "    \"Delayed shipping\" : shipping is delayed.\n",
    "    \"Item lost\": item was lost during delivery.\n",
    "    \"Expedited shipping not on time\": customer chose expedited shipping, but the item did not arrive on time.\n",
    "    \"No international\": customer is upset that there is no international shipping.\n",
    "    \"Delay from order to start of ship\": customer is upset that it takes too long for the product to start shipping after the order has been completed.\n",
    "    \"Shipping Carrier (USPS, UPS, FedEx, DHL)\": customer is experiencing issues with one or more of these shipping carriers. Note that if this label applies, output the entire label name \"Shipping Carrier (USPS, UPS, FedEx, DHL)\".\n",
    "    \"Customer service can't resolve shipping\": customer service is unable to resolve a shipping issue.\n",
    "    \"Negative store experience\": customer had a negative in-store experience.\n",
    "    \"Unable to update address\": customer is unable to update address.\n",
    "    \"Unable to honor discount codes in an exchange\": customer had bought a discounted product, then later tried making an exchange to a different product, but the original discount wasn't rolled over to the new product.\n",
    "    \"Remote customer service agent issues, rude, unhelpful\": a remote customer service agent was rude, unhelpful, or problematic. Note this does not apply to the in-store retail workers!\n",
    "    \"Chat bot issue\": issue with the site AI chatbot.\n",
    "    \"Issues using $20 discount\": customer has issues using the $20 discount.\n",
    "    \"Unable to cancel\": customer is unable to cancel their order.\n",
    "    \"Item went out of stock\": item is out of stock.\n",
    "    \"Return and exchange policies\": customer has an issue with the return or exchange policies.\n",
    "    \"Final sale\": customer has an issue with the special discount known as 'final sale'.\n",
    "    \"Sizing different from recommendation\": the sizing of a product is different from what was suggested.\n",
    "    \"Size inconsistency between styles\": the sizing is inconsistent between different styles.\n",
    "    \"Size inconsistency within style\": the sizing is inconsistent between products of the same style.\n",
    "    \"Size inconsistency with other brands\": the sizing is different than what other brands have.\n",
    "    \"Uncomfortable\": the product is uncomfortable.\n",
    "    \"No support\": the shoe has insufficient support for the foot.\n",
    "    \"No wide option\": customer is upset that there is no wide option for the shoe.\n",
    "    \"Gift card hard to find\": customer can't locate the gift card.\n",
    "    \"Can't send gift card to recipient\": customer can't send a gift card to someone else.\n",
    "    \"Can't print gift card\": customer can't print gift card.\n",
    "    \"Shoes arrive worn\": the shoes arrive worn.\n",
    "    \"Incorrect order arrives\": the wrong product arrives.\n",
    "    \"Damaged box on arrival\": the delivery box is damaged upon arrival.\n",
    "    \"Shoes falling apart\": the shoes get worn out too quickly.\n",
    "    \"Retains odor\": the product retains too much odor.\n",
    "    \"Quality declined\": the quality of the company's products has declined over time.\n",
    "    \"Fabric too thin\": the fabric of the product is too thin or fragile.\n",
    "    \"Survey sent before order arrives\": the survey is sent before the order arrives.\n",
    "    \"Shrinks in wash\": the product shrinks excessively in the wash.\n",
    "    \"Stains don't come out\": the stains don't come out.\n",
    "    \"Website not user friendly\": the website is not user friendly.\n",
    "    \"Can't log in\": customer is unable to log in to the website.\n",
    "    \"Difficult to verify teacher / medical professional discount\": customer can't use their SheerID / teacher / medical professional discount.\n",
    "    \"Unsubscribed still receiving emails\": customer has tried to unsubscribe, but is still receiving emails.\n",
    "    \"Too many emails\": customer receives too many emails.\n",
    "    \"Overpriced\": customer believes the products are overpriced.\n",
    "    \"Unattractive, matronly\": customer believes the products are not attractive or are too matronly.\n",
    "    \"Limited color choices\" : customer does not like the limited color choices.\n",
    "    \"Not environmentally friendly\": customer is upset that the products are not environmentally friendly. \n",
    "\n",
    "    Notes:\n",
    "    The \"Remote customer service agent issues, rude, unhelpful\" applies only to remote customer service agents, not the people who work in the store!\n",
    "\n",
    "    Some examples:\n",
    "    review: \"The shoes were too tight even though the sizing chart recommended my size. I would have expected better given the price\"\n",
    "    answer: \"Sizing different from recommendation\", \"Overpriced\"\n",
    "    \n",
    "    review: \"Have not received yet..... 2 weeks.... what's up with that???\"\n",
    "    answer: \"Delayed shipping\"\n",
    "    \n",
    "    review: \"I placed an order 3 weeks ago, but the shoe never started shipping! What's going on??\"\n",
    "    answer: \"Delay from order to start of ship\"\n",
    "    \n",
    "    review: \"The shoe gave me terrible blisters after a bit of wear. Unfortunately, I don't think I can return them anymore now.\"\n",
    "    answer: \"Uncomfortable\", \"Return and exchange policies\"\n",
    "\n",
    "    review: \"The shoe has a weird looking design. Disappointing\"\n",
    "    answer: \"Unattractive, matronly\"\n",
    "    \"\"\"\n",
    "    },\n",
    "    {\n",
    "    \"role\": \"user\",\n",
    "    \"content\": f\"\"\"Review: \"{review}\"\n",
    "    Assigned Labels:\"\"\"\n",
    "    }\n",
    "    ]\n",
    "    \n",
    "    tokenizer.use_default_system_prompt = False\n",
    "    formatted_prompt = tokenizer.apply_chat_template(chat, tokenize=False, add_generation_prompt=True)\n",
    "    parameters = {\n",
    "    \"inputs\": formatted_prompt,\n",
    "    \"parameters\": {\n",
    "    \"max_new_tokens\": 200\n",
    "    }\n",
    "    }\n",
    "    response1 = llm.predict(parameters)\n",
    "    detractors.loc[i,'llama_system_label'] = response1[0]['generated_text'][len(formatted_prompt):]\n",
    "    "
   ]
  },
  {
   "cell_type": "code",
   "execution_count": null,
   "id": "3b84cab8-f016-4cc8-bccc-27388fdc9907",
   "metadata": {},
   "outputs": [],
   "source": [
    "detractors.to_csv(\"assigned_labels.csv\", index=False)"
   ]
  },
  {
   "cell_type": "code",
   "execution_count": null,
   "id": "a8fce764-3be8-433d-8d70-d3b3382de099",
   "metadata": {},
   "outputs": [],
   "source": [
    "#IMPORTANT: when you are done, run this code to remove your endpoint, so the costs don't accumulate!!!\n",
    "llm.delete_model()\n",
    "llm.delete_endpoint()\n",
    "#ALSO: make sure to delete the kernel too. To do that, go to far left hand pane, click on the \"Running Terminals and Kernels\" tab, and click \"Shut Down All\" for the Kernels section"
   ]
  },
  {
   "cell_type": "code",
   "execution_count": null,
   "id": "b6e81b60-67c0-4b34-bb84-09bb6833d29f",
   "metadata": {},
   "outputs": [],
   "source": []
  }
 ],
 "metadata": {
  "kernelspec": {
   "display_name": "Python 3 (ipykernel)",
   "language": "python",
   "name": "python3"
  },
  "language_info": {
   "codemirror_mode": {
    "name": "ipython",
    "version": 3
   },
   "file_extension": ".py",
   "mimetype": "text/x-python",
   "name": "python",
   "nbconvert_exporter": "python",
   "pygments_lexer": "ipython3",
   "version": "3.11.9"
  }
 },
 "nbformat": 4,
 "nbformat_minor": 5
}
